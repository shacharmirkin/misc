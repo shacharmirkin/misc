{
  "nbformat": 4,
  "nbformat_minor": 0,
  "metadata": {
    "colab": {
      "name": "country-city.ipynb",
      "private_outputs": true,
      "provenance": [],
      "collapsed_sections": [],
      "toc_visible": true,
      "authorship_tag": "ABX9TyMgnNiKuegcvjy85nl1zrjS",
      "include_colab_link": true
    },
    "kernelspec": {
      "name": "python3",
      "display_name": "Python 3"
    },
    "language_info": {
      "name": "python"
    }
  },
  "cells": [
    {
      "cell_type": "markdown",
      "metadata": {
        "id": "view-in-github",
        "colab_type": "text"
      },
      "source": [
        "<a href=\"https://colab.research.google.com/github/shacharmirkin/misc/blob/main/country_city.ipynb\" target=\"_parent\"><img src=\"https://colab.research.google.com/assets/colab-badge.svg\" alt=\"Open In Colab\"/></a>"
      ]
    },
    {
      "cell_type": "markdown",
      "metadata": {
        "id": "OAOdewkKbN-y"
      },
      "source": [
        "## Country-city (Eretz-Ir)"
      ]
    },
    {
      "cell_type": "markdown",
      "metadata": {
        "id": "oYck7s0NP8Ik"
      },
      "source": [
        "(Just playing a bit with mapping)\n",
        "\n",
        "This notebook shows a map of the world countries, and when you hover over a country, \n",
        "you see a city, an animal, a plant and an object, all starting with the same letter.\n",
        "\n",
        "<img src=\"https://github.com/shacharmirkin/misc/blob/main/images/country-city-ex.png?raw=1\" width=500>\n",
        "\n",
        "The main libraries I used:\n",
        "- http://python-visualization.github.io/folium\n",
        "- https://geopandas.org\n",
        "- https://nltk.org/howto/wordnet\n"
      ]
    },
    {
      "cell_type": "markdown",
      "metadata": {
        "id": "lmBh0kCWHj67"
      },
      "source": [
        "### Setup"
      ]
    },
    {
      "cell_type": "code",
      "metadata": {
        "id": "Jc44T75pPHgg"
      },
      "source": [
        "! pip install --quiet geopandas nltk\n",
        "import geopandas\n",
        "import matplotlib.pyplot as plt\n",
        "\n",
        "from collections import defaultdict\n",
        "import random\n",
        "import nltk\n",
        "from nltk.corpus import wordnet as wn\n",
        "\n",
        "nltk.download('wordnet');"
      ],
      "execution_count": null,
      "outputs": []
    },
    {
      "cell_type": "markdown",
      "metadata": {
        "id": "SCR97JOlHf1B"
      },
      "source": [
        "### Geopanda's datasets"
      ]
    },
    {
      "cell_type": "code",
      "metadata": {
        "id": "3C3_M4yMIuvj"
      },
      "source": [
        "# List built-in Geopanda datasets\n",
        "geopandas.datasets.available"
      ],
      "execution_count": null,
      "outputs": []
    },
    {
      "cell_type": "code",
      "metadata": {
        "id": "wcgAQvvkPyuL"
      },
      "source": [
        "world = geopandas.read_file(geopandas.datasets.get_path('naturalearth_lowres'))\n",
        "world.head()"
      ],
      "execution_count": null,
      "outputs": []
    },
    {
      "cell_type": "code",
      "metadata": {
        "id": "Vmz-QGwTHOKP"
      },
      "source": [
        "cities = geopandas.read_file(geopandas.datasets.get_path('naturalearth_cities'))\n",
        "cities.head()"
      ],
      "execution_count": null,
      "outputs": []
    },
    {
      "cell_type": "markdown",
      "metadata": {
        "id": "NRns_p_XmNRT"
      },
      "source": [
        "## Country-City (Animal-Plant-Object)\n",
        "For each country, we show a city, an animal, a plant and an object that start with the same letter.\n",
        "Originally I wanted to show a different icons for each animal, but supported free icons were not available"
      ]
    },
    {
      "cell_type": "markdown",
      "metadata": {
        "id": "xDYAkccbVqcn"
      },
      "source": [
        "#### Adding city info from the internal dataset"
      ]
    },
    {
      "cell_type": "code",
      "metadata": {
        "id": "JKyGe81W9pNj"
      },
      "source": [
        "type_to_inst = defaultdict(dict)\n",
        "# Add the cities from the dataset\n",
        "# No cities in this dataset for some letters so I'm adding them manually\n",
        "city_list = list(cities.name.values)\n",
        "city_list.extend(['Zurich', 'Qionghai', 'Ubatuba', 'El Paso'])\n",
        "\n",
        "type_to_inst['city'] = defaultdict(list)\n",
        "for city in city_list:\n",
        "  type_to_inst['city'][city[0].upper()].append(city)"
      ],
      "execution_count": null,
      "outputs": []
    },
    {
      "cell_type": "markdown",
      "metadata": {
        "id": "mNxPrB23JUll"
      },
      "source": [
        "### Retrieving info from WordNet\n",
        "Collecting isntances for each of animal, plant, object"
      ]
    },
    {
      "cell_type": "code",
      "metadata": {
        "id": "K7saUUANPrtX"
      },
      "source": [
        "# The synonym number can be found in http://wordnetweb.princeton.edu/perl/webwn\n",
        "\n",
        "types = ['animal','plant', 'object']\n",
        "animal = wn.synset('animal.n.01')\n",
        "plant = wn.synset('plant.n.02')\n",
        "object_ = wn.synset('object.n.01')\n",
        "\n",
        "hypo = lambda s: s.hyponyms()\n",
        "\n",
        "# Structure example: 'Blue Orchid' is in dict_['plant']['B']\n",
        "\n",
        "for type_, synset in zip(types, [animal, plant, object_]):\n",
        "  curr_dict = defaultdict(list)\n",
        "  clousure = list(synset.closure(hypo, depth=-1))\n",
        "  for c in clousure:\n",
        "    if c.instance_hyponyms() == []:\n",
        "      name = c.lemmas()[0].name().replace('_', ' ').title()\n",
        "      curr_dict[name[0].upper()].append(name)\n",
        "\n",
        "  type_to_inst[type_] = curr_dict"
      ],
      "execution_count": null,
      "outputs": []
    },
    {
      "cell_type": "markdown",
      "metadata": {
        "id": "6FQH22mbmS2T"
      },
      "source": [
        "### Showing the data on the map"
      ]
    },
    {
      "cell_type": "code",
      "metadata": {
        "id": "t_v9aT2Bjk0w"
      },
      "source": [
        "import geopandas as gpd\n",
        "import folium\n",
        "import matplotlib.pyplot as plt\n",
        "\n",
        "# make sure dataframe coordinates are in sync with geographic coordinates (lat, long)\n",
        "# 4326 is just the EPSG identifier of WGS84. ESPG https://en.wikipedia.org/wiki/EPSG_Geodetic_Parameter_Dataset\n",
        "cities.to_crs(epsg=4326)\n",
        "world.to_crs(epsg=4326)\n",
        "\n",
        "berlin_loc = cities.query('name==\"Berlin\"').geometry.values[0]  # from the cities dataset\n",
        "\n",
        "# Create a map with centered around Berlin\n",
        "# Coordinates are represented as latitude, longtitude => y,x (and not x,y)\n",
        "m = folium.Map(location=[berlin_loc.y, berlin_loc.x], zoom_start=4, tiles=\"Stamen Terrain\")\n",
        "\n",
        "# Overlay the boundaries of boroughs\n",
        "for _, row in world.iterrows():\n",
        "    # without simplifying the representation of each borough, the map might not be displayed\n",
        "    sim_geo = gpd.GeoSeries(row['geometry']).simplify(tolerance=0.001)  # the higher the tolerance, the less accurate\n",
        "    geo_j = sim_geo.to_json()\n",
        "    geo_j = folium.GeoJson(data=geo_j)\n",
        "    geo_j.add_to(m)\n",
        "\n",
        "# Mark Grenoble on the map\n",
        "grenoble_loc = [45.188614872721125, 5.724174129578328]  # from Google maps\n",
        "folium.Marker(location=grenoble_loc).add_to(m)\n",
        "\n",
        "# Calculate centroids of each country (centroid of the points in the polygons)\n",
        "# Note: centroid may be outside the boundaries when there are multiple polygons representing the country, e.g. France\n",
        "\n",
        "world['lat'] = world.centroid.y\n",
        "world['long'] = world.centroid.x\n",
        "\n",
        "# style prefix and suffix\n",
        "pre = '<span style=\"color:#4d94ff;\">'\n",
        "suf = '</span>'\n",
        "\n",
        "for _, row in world.iterrows():\n",
        "  tooltip_text = pre + 'COUNTRY: ' + suf + row['name'] + '<br>'\n",
        "  f_letter = row['name'][0].upper()\n",
        "  for k in type_to_inst.keys():\n",
        "    instances = type_to_inst[k][f_letter]\n",
        "    if len(instances) > 0:\n",
        "      tooltip_text += pre + k.upper() + ': ' +suf + random.choice(instances) + '<br>'\n",
        "\n",
        "  folium.Marker(location=[row['lat'], row['long']],\n",
        "                icon=folium.Icon(prefix=\"fa\", icon=\"paw\"),\n",
        "                tooltip=folium.Tooltip(tooltip_text, style=\"font-weight: bold;font-size:130%;\")\n",
        "                ).add_to(m)\n",
        "\n",
        "m"
      ],
      "execution_count": null,
      "outputs": []
    }
  ]
}