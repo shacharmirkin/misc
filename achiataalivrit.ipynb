{
  "nbformat": 4,
  "nbformat_minor": 0,
  "metadata": {
    "colab": {
      "name": "achiataalivrit.ipynb",
      "provenance": [],
      "collapsed_sections": [],
      "authorship_tag": "ABX9TyMLcw/ByQdUXpVehe6ed8C3",
      "include_colab_link": true
    },
    "kernelspec": {
      "name": "python3",
      "display_name": "Python 3"
    }
  },
  "cells": [
    {
      "cell_type": "markdown",
      "metadata": {
        "id": "view-in-github",
        "colab_type": "text"
      },
      "source": [
        "<a href=\"https://colab.research.google.com/github/shacharmirkin/misc/blob/main/achiataalivrit.ipynb\" target=\"_parent\"><img src=\"https://colab.research.google.com/assets/colab-badge.svg\" alt=\"Open In Colab\"/></a>"
      ]
    },
    {
      "cell_type": "markdown",
      "metadata": {
        "id": "hECsBm8JgCF7"
      },
      "source": [
        "# אחי, אתה על עברית\n",
        "This script in meant to find cases where accidentaly typing in Hebrew instead of English still results with a word in Hebrew that has the same meaning as what we intented to write in English.\n",
        "\n",
        "Executive summary: fail :( Anyway, it was worth a try\n",
        "\n",
        "@shacharmirkin"
      ]
    },
    {
      "cell_type": "code",
      "metadata": {
        "id": "M4ROakKtiwEU"
      },
      "source": [
        "import numpy as np\n",
        "from gensim.models import KeyedVectors\n",
        "import gensim.models.wrappers.fasttext\n",
        "import warnings\n",
        "warnings.filterwarnings(\"ignore\", category=FutureWarning)"
      ],
      "execution_count": null,
      "outputs": []
    },
    {
      "cell_type": "markdown",
      "metadata": {
        "id": "-E9Nj9OM20Gm"
      },
      "source": [
        "Create a keyboard mapping"
      ]
    },
    {
      "cell_type": "code",
      "metadata": {
        "id": "8CmEXYjaPKZ3"
      },
      "source": [
        "# Left to right, top to bottom keys on my laptop\n",
        "en = 'qwertyuiopasdfghjkl;zxcvbnm,.'\n",
        "he = \"/'קראטוןםפשדגכעיחלךףזסבהנמצתץ\"\n",
        "\n",
        "he2en_map = {}\n",
        "for i in range(len(he)):\n",
        "  he2en_map[he[i]] = en[i]"
      ],
      "execution_count": null,
      "outputs": []
    },
    {
      "cell_type": "code",
      "metadata": {
        "id": "08jt13c8boqe",
        "outputId": "efe7fee5-e4ee-4619-f39f-f24ffc89d0ed",
        "colab": {
          "base_uri": "https://localhost:8080/",
          "height": 35
        }
      },
      "source": [
        "def he2en(he_str : str) -> str:\n",
        "  \"\"\" Convert a Hebrew string to an English (Latin letters) string based on the keyboard layout \"\"\"\n",
        "  en_word = ''\n",
        "  for l in list(he_str):\n",
        "    if l not in he2en_map:\n",
        "      return None\n",
        "    en_word += he2en_map[l]\n",
        "  return en_word\n",
        "\n",
        "he2en('טמקא')"
      ],
      "execution_count": null,
      "outputs": [
        {
          "output_type": "execute_result",
          "data": {
            "application/vnd.google.colaboratory.intrinsic+json": {
              "type": "string"
            },
            "text/plain": [
              "'ynet'"
            ]
          },
          "metadata": {
            "tags": []
          },
          "execution_count": 4
        }
      ]
    },
    {
      "cell_type": "markdown",
      "metadata": {
        "id": "_tMkvMPpYjNB"
      },
      "source": [
        "# A bilingual dictionary\n",
        "We're using aligned word vectors from fasttext: https://fasttext.cc/docs/en/aligned-vectors.html \n",
        "\n",
        "In aligned word vectors, similar words in different languages have similar vectors.\n"
      ]
    },
    {
      "cell_type": "code",
      "metadata": {
        "id": "tHRkTWdrYSzx"
      },
      "source": [
        "import os\n",
        "def download_vec(lang: str):\n",
        "  \"\"\" Download fastText word vectors for a given language \"\"\"\n",
        "  filename = 'wiki.' + lang + '.align.vec'\n",
        "  url = 'https://dl.fbaipublicfiles.com/fasttext/vectors-aligned/' + filename\n",
        "  if not os.path.exists(filename):\n",
        "    ! wget $url\n",
        "  return filename"
      ],
      "execution_count": null,
      "outputs": []
    },
    {
      "cell_type": "markdown",
      "metadata": {
        "id": "jWE8JIV5EKzx"
      },
      "source": [
        "\n",
        "Download the vectors for Hebrew and English and print a few lines from each file (showing only a part of the vector)\n",
        "\n",
        "Format: The first line includes the number of vectors and their dimension. \n",
        "The other lines contain a word followed by its vector, space separated. "
      ]
    },
    {
      "cell_type": "code",
      "metadata": {
        "id": "Nvav1aLZ149b",
        "outputId": "3640854d-ff4b-4d96-a1f7-8ce36ff6d9a0",
        "colab": {
          "base_uri": "https://localhost:8080/"
        }
      },
      "source": [
        "he_filename = download_vec('he')\n",
        "en_filename = download_vec('en')\n",
        "\n",
        "!sed -n '1p;997,1000p' $he_filename | cut -f1-10 -d' '\n",
        "print()\n",
        "!sed -n '1p;997,1000p' $en_filename | cut -f1-10 -d' '"
      ],
      "execution_count": null,
      "outputs": [
        {
          "output_type": "stream",
          "text": [
            "--2020-10-30 11:19:41--  https://dl.fbaipublicfiles.com/fasttext/vectors-aligned/wiki.he.align.vec\n",
            "Resolving dl.fbaipublicfiles.com (dl.fbaipublicfiles.com)... 172.67.9.4, 104.22.75.142, 104.22.74.142, ...\n",
            "Connecting to dl.fbaipublicfiles.com (dl.fbaipublicfiles.com)|172.67.9.4|:443... connected.\n",
            "HTTP request sent, awaiting response... 200 OK\n",
            "Length: 1106836660 (1.0G) [binary/octet-stream]\n",
            "Saving to: ‘wiki.he.align.vec’\n",
            "\n",
            "wiki.he.align.vec   100%[===================>]   1.03G  23.9MB/s    in 48s     \n",
            "\n",
            "2020-10-30 11:20:29 (22.2 MB/s) - ‘wiki.he.align.vec’ saved [1106836660/1106836660]\n",
            "\n",
            "--2020-10-30 11:20:29--  https://dl.fbaipublicfiles.com/fasttext/vectors-aligned/wiki.en.align.vec\n",
            "Resolving dl.fbaipublicfiles.com (dl.fbaipublicfiles.com)... 104.22.74.142, 172.67.9.4, 104.22.75.142, ...\n",
            "Connecting to dl.fbaipublicfiles.com (dl.fbaipublicfiles.com)|104.22.74.142|:443... connected.\n",
            "HTTP request sent, awaiting response... 200 OK\n",
            "Length: 5685446378 (5.3G) [binary/octet-stream]\n",
            "Saving to: ‘wiki.en.align.vec’\n",
            "\n",
            "wiki.en.align.vec   100%[===================>]   5.29G  23.7MB/s    in 5m 2s   \n",
            "\n",
            "2020-10-30 11:25:32 (17.9 MB/s) - ‘wiki.en.align.vec’ saved [5685446378/5685446378]\n",
            "\n",
            "488936 300\n",
            "הללו 0.0244 -0.0095 -0.0422 0.0020 0.0268 0.0830 0.0445 0.0203 0.0811\n",
            "הסכם -0.0701 0.0175 0.1304 0.0120 0.0177 -0.0172 0.0090 0.0078 -0.0348\n",
            "חברים 0.0607 -0.0708 0.0284 -0.0498 -0.0287 0.0412 -0.0164 -0.0895 0.0627\n",
            "מלא -0.0567 -0.0046 0.0071 0.0259 0.1087 0.0385 -0.0176 -0.0111 0.0696\n",
            "\n",
            "2519370 300\n",
            "mary 0.0320 0.0531 -0.0362 0.0575 -0.0418 -0.0013 0.0628 0.0050 -0.0341\n",
            "airport -0.0212 -0.0640 -0.0156 -0.0516 -0.0860 -0.0306 0.0241 0.0724 -0.0653\n",
            "sound 0.0096 -0.0251 -0.0541 0.0397 0.0087 0.0641 -0.0540 -0.0159 0.0068\n",
            "status -0.0075 -0.0089 0.0187 0.0327 -0.0236 -0.0307 0.0132 -0.0658 0.0555\n"
          ],
          "name": "stdout"
        }
      ]
    },
    {
      "cell_type": "markdown",
      "metadata": {
        "id": "uKmkY2BTFR4b"
      },
      "source": [
        "Loading the word vectors into memory"
      ]
    },
    {
      "cell_type": "code",
      "metadata": {
        "id": "AWEx5ieSFc7S"
      },
      "source": [
        "he_wv = KeyedVectors.load_word2vec_format(he_filename, binary=False, encoding='utf8', limit=None)"
      ],
      "execution_count": null,
      "outputs": []
    },
    {
      "cell_type": "code",
      "metadata": {
        "id": "2UzmEdtvPyFz"
      },
      "source": [
        "# The English vectors include 2.5M entries, and it takes some time to load\n",
        "# if not all are needed, change to a smaller number (None means all)\n",
        "en_wv = KeyedVectors.load_word2vec_format(en_filename, binary=False, encoding='utf8', limit=None)"
      ],
      "execution_count": null,
      "outputs": []
    },
    {
      "cell_type": "markdown",
      "metadata": {
        "id": "FPVqp6-dLnpE"
      },
      "source": [
        "Playing a bit with the word vectors"
      ]
    },
    {
      "cell_type": "code",
      "metadata": {
        "id": "B6bUeg2NLjLf",
        "outputId": "9be6393b-966a-4acb-ecf6-2b9b7d10009e",
        "colab": {
          "base_uri": "https://localhost:8080/"
        }
      },
      "source": [
        "w1, w2 = 'אליפות', 'גביע'\n",
        "print(f\"sim({w1},{w2})={he_wv.similarity(w1,w2):.3f}\")  # (0.56 is pretty high)\n",
        "\n",
        "print(f\"\\nMost similar words to '{w1}':\")\n",
        "for w, score in he_wv.most_similar(w1):\n",
        "  print (w, round(float(score), 3))"
      ],
      "execution_count": null,
      "outputs": [
        {
          "output_type": "stream",
          "text": [
            "sim(אליפות,גביע)=0.557\n",
            "\n",
            "Most similar words to 'אליפות':\n",
            "ואליפות 0.844\n",
            "אליפות+גביע 0.839\n",
            "#אליפות 0.831\n",
            "שאליפות 0.83\n",
            "כאליפות 0.78\n",
            "אליפותו 0.779\n",
            "מאליפות 0.745\n",
            "ולאליפות 0.729\n",
            "כשבאליפות 0.728\n",
            "שבאליפות 0.728\n"
          ],
          "name": "stdout"
        }
      ]
    },
    {
      "cell_type": "markdown",
      "metadata": {
        "id": "ThdcGljIM9WN"
      },
      "source": [
        "## Checking the alignment\n",
        "We expect translations to get a relatively high similarity score"
      ]
    },
    {
      "cell_type": "code",
      "metadata": {
        "id": "nLsmTbIlER_R",
        "outputId": "7cfdedd4-f40d-435d-ca73-c10cb25861ad",
        "colab": {
          "base_uri": "https://localhost:8080/"
        }
      },
      "source": [
        "def get_he_en_sim(he_w, en_w):\n",
        "  \"\"\" Get the Cosine similarity between a Hebrew and an English word \"\"\"\n",
        "  try:\n",
        "    v1 = he_wv.word_vec(he_w) \n",
        "    v2 = en_wv.word_vec(en_w)\n",
        "    sim = np.dot(v1,v2)  # the vectors are normalized so dot product equals cosine similarity\n",
        "    print(he_w, en_w, sim)\n",
        "    return sim\n",
        "  except KeyError as e:\n",
        "    print(e)\n",
        "    return None\n",
        "\n",
        "get_he_en_sim('חתול', 'cat')  # 0.43 is actually quite high\n",
        "get_he_en_sim('חתול', 'dog')\n",
        "get_he_en_sim('חתול', 'table')\n",
        "_ = get_he_en_sim('חתול', 'black')\n"
      ],
      "execution_count": null,
      "outputs": [
        {
          "output_type": "stream",
          "text": [
            "חתול cat 0.43351614\n",
            "חתול dog 0.38818812\n",
            "חתול table 0.06924441\n",
            "חתול black 0.06795343\n"
          ],
          "name": "stdout"
        }
      ]
    },
    {
      "cell_type": "markdown",
      "metadata": {
        "id": "PDduYvSLQxRW"
      },
      "source": [
        "#Looking for matches \n",
        "Requiring keyboard layout match and semantic similarity"
      ]
    },
    {
      "cell_type": "code",
      "metadata": {
        "id": "8TWoNEygyX8T",
        "outputId": "1a88a13a-6397-4389-bd04-a684e43df0a7",
        "colab": {
          "base_uri": "https://localhost:8080/"
        }
      },
      "source": [
        "min_sim = 0.3  # this also removes a lot of the noise that exists in the word vectors\n",
        "min_length = 3\n",
        " \n",
        "for w in he_wv.vocab:\n",
        "  en_w = he2en(w)\n",
        "  if len(w) >= min_length and en_w in en_wv.vocab:\n",
        "    v1 = he_wv.word_vec(w) \n",
        "    v2 = en_wv.word_vec(en_w)\n",
        "    sim = np.dot(v1,v2)\n",
        "    if sim >= min_sim: \n",
        "      print(w, en_w, round(sim,3))"
      ],
      "execution_count": null,
      "outputs": [
        {
          "output_type": "stream",
          "text": [
            "רקס rex 0.372\n"
          ],
          "name": "stdout"
        }
      ]
    },
    {
      "cell_type": "markdown",
      "metadata": {
        "id": "s822TplNRgVf"
      },
      "source": [
        "That's quite disappointing.\n",
        "The only (kind of) success with at least 3 letters and minimal similarity = 0.3 is *רקס rex 0.372*. \n",
        "\n",
        "In retropect, maybe this shouldn't be too surprising, \n",
        "e.g. because of the length difference between Hebrew and English words (vowels).\n",
        "\n",
        "Will it will work better with other languages pairs (and different scripts/keyboards)?\n"
      ]
    },
    {
      "cell_type": "markdown",
      "metadata": {
        "id": "fsOGVyo_UqI5"
      },
      "source": [
        "Lastly, are the Hebrew words semantically similar to their accidentaly typed version?"
      ]
    },
    {
      "cell_type": "code",
      "metadata": {
        "id": "mlIHQKR5Uam7",
        "outputId": "315d8e49-a123-4112-c2cd-fb7861828874",
        "colab": {
          "base_uri": "https://localhost:8080/"
        }
      },
      "source": [
        "min_sim = 0.25\n",
        "min_length = 3\n",
        "\n",
        "for w in he_wv.vocab:\n",
        "  en_w = he2en(w)\n",
        "  if len(w) >= min_length and en_w in he_wv.vocab:  # now looking at the Hebrew voacb only\n",
        "    v1 = he_wv.word_vec(w) \n",
        "    v2 = he_wv.word_vec(en_w)\n",
        "    sim = np.dot(v1,v2)\n",
        "    if sim >= min_sim: \n",
        "      # also showing for reference the 10th-most similar word\n",
        "      most_sim_w, most_sim_score = he_wv.most_similar(w, topn=10)[9]\n",
        "      print(w, en_w, round(sim,3), \"::\", most_sim_w, round(most_sim_score, 3), sep='\\t') "
      ],
      "execution_count": null,
      "outputs": [
        {
          "output_type": "stream",
          "text": [
            "שמאל\tantk\t0.382\t::\tupright\t0.624\n",
            "נגד\tbds\t0.319\t::\tנגדו\t0.573\n",
            "אלי\ttkh\t0.267\t::\tותשאלי\t0.432\n",
            "הכס\tvfx\t0.325\t::\tאפוקריסיאריוס\t0.428\n",
            "רקס\trex\t0.285\t::\tשונוזאורוס\t0.486\n",
            "יגה\thdv\t0.295\t::\tטרהבייט\t0.519\n",
            "הצג\tvmd\t0.256\t::\tתוצג\t0.482\n",
            "קצא\temt\t0.274\t::\tאמרכל\t0.427\n",
            "אצה\ttmv\t0.254\t::\tאצפה\t0.39\n",
            "דאע\tstg\t0.261\t::\tשטרור\t0.479\n",
            "ערוד\tgrus\t0.276\t::\tערופה\t0.447\n",
            "פררפ\tprrp\t0.386\t::\tלפקמן\t0.486\n",
            "דוגם\tsudo\t0.254\t::\tומבוצע\t0.425\n",
            "נהורא\tbvurt\t0.257\t::\tאהורא\t0.491\n",
            "בצג\tcmd\t0.369\t::\tבמציג\t0.546\n",
            "ועמ\tugn\t0.265\t::\tוכרך\t0.483\n",
            "טמקא\tynet\t0.26\t::\tאשתוק\t0.399\n",
            "דפור\tspur\t0.258\t::\tברדפורד\t0.419\n",
            "ההה\tvvv\t0.258\t::\tההמפ\t0.49\n",
            "דמל\tsnk\t0.263\t::\tהלכתא\t0.426\n",
            "לצא\tkmt\t0.292\t::\tלצאתם\t0.546\n",
            "אונקר\ttuber\t0.268\t::\tאונקיית\t0.493\n",
            "צצצ\tmmm\t0.297\t::\tלכאן/תבנית\t0.532\n"
          ],
          "name": "stdout"
        }
      ]
    }
  ]
}